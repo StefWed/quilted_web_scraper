{
 "cells": [
  {
   "cell_type": "markdown",
   "id": "90a33da2-7f2c-452c-9732-f0741b35f2b3",
   "metadata": {},
   "source": [
    "# Using Web Scraping For Your Hobby Or:\n",
    "\n",
    "# One Of My Favourite Designers Anna Maria Horner on Sew Hot UK\n",
    " \n",
    "\n",
    "In this notebook, I build a web scraper, which works with a search term - in my case \"Anna Maria Horner\". The website shows me the search result with 30 hits per page. The following scraper only gathers information from the first page.\n",
    "\n",
    "First step is always: Checking Sew Hot UK robots.txt. It shows me that there are only a few things to consider:"
   ]
  },
  {
   "cell_type": "markdown",
   "id": "3bb70bde-5f09-4035-9189-ef3380f6d285",
   "metadata": {},
   "source": [
    "User-agent: *\n",
    "\n",
    "Disallow: /wp-admin/\n",
    "\n",
    "Allow: /wp-admin/admin-ajax.php\n"
   ]
  },
  {
   "cell_type": "markdown",
   "id": "673a00fa-d05e-40f8-aaea-f71dec47c27f",
   "metadata": {},
   "source": [
    "So, let's start and find some products."
   ]
  },
  {
   "cell_type": "markdown",
   "id": "a286bba9-d215-44b5-8cbc-6d9ca90d9686",
   "metadata": {},
   "source": [
    "## Packages"
   ]
  },
  {
   "cell_type": "code",
   "execution_count": 1,
   "id": "be2702a7-c338-4ab3-92db-1ff402a818d9",
   "metadata": {},
   "outputs": [],
   "source": [
    "import pandas as pd\n",
    "from bs4 import BeautifulSoup\n",
    "import requests\n",
    "import time"
   ]
  },
  {
   "cell_type": "markdown",
   "id": "db764fa6-a053-411e-9ce0-81deeb8ead68",
   "metadata": {},
   "source": [
    "## Initiating request\n",
    "\n",
    "The timeout had to be set to 5, after starting with 2, which was not enough time. Printing the status code, which prints out 200. Good to go."
   ]
  },
  {
   "cell_type": "code",
   "execution_count": 2,
   "id": "e04a21a5-ed7c-4f1d-ab63-9ce9cc0ce731",
   "metadata": {},
   "outputs": [
    {
     "name": "stdout",
     "output_type": "stream",
     "text": [
      "200\n"
     ]
    }
   ],
   "source": [
    "url = \"https://www.sewhot.co.uk/?s=Anna+Maria+Horner&post_type=product&product_cat=0\"\n",
    "\n",
    "page = requests.get(url, timeout=5)\n",
    "print(page.status_code)"
   ]
  },
  {
   "cell_type": "markdown",
   "id": "986ba906-7a28-440d-80c5-1f78a1e8451b",
   "metadata": {},
   "source": [
    "## BeautifulSoup"
   ]
  },
  {
   "cell_type": "code",
   "execution_count": 3,
   "id": "25866a71-a9ef-4a6b-a604-a7a40bd4d1d6",
   "metadata": {},
   "outputs": [],
   "source": [
    "annamaria = BeautifulSoup(page.content, \"html.parser\")"
   ]
  },
  {
   "cell_type": "markdown",
   "id": "52fe46ba-d4e8-47b4-89a8-f1e97ea546f2",
   "metadata": {},
   "source": [
    "## Finding Each Product on the First Page\n",
    "\n",
    "Using Inspect on the Sew Hot UK website resulted in the finding that each product can be detected by the tag div, filtered by class=\"product-element-bottom product-information\". Using find_all() to actually find all single products stored in There are 30 products per page, so len() should give out 30. Which it does, yeah!"
   ]
  },
  {
   "cell_type": "code",
   "execution_count": 4,
   "id": "6df34b39-3bd9-415b-9f12-a1a418e732f3",
   "metadata": {},
   "outputs": [
    {
     "data": {
      "text/plain": [
       "30"
      ]
     },
     "execution_count": 4,
     "metadata": {},
     "output_type": "execute_result"
    }
   ],
   "source": [
    "products = annamaria.find_all(\"div\", {\"class\" : \"product-element-bottom product-information\"})\n",
    "len(products)"
   ]
  },
  {
   "cell_type": "markdown",
   "id": "2c5af37e-9dfe-4678-a415-6798eb62a435",
   "metadata": {},
   "source": [
    "## Checking out the first product\n",
    "\n",
    "As a starting point, I am interested in the product title, the price and the link to the specific product page. I can find all this information in my result, as the print out of the first product shows."
   ]
  },
  {
   "cell_type": "code",
   "execution_count": 5,
   "id": "7585f0b8-ecc8-4d3b-932a-d51959e2fcf1",
   "metadata": {},
   "outputs": [
    {
     "data": {
      "text/plain": [
       "<div class=\"product-element-bottom product-information\">\n",
       "<h3 class=\"wd-entities-title\"><a href=\"https://www.sewhot.co.uk/product/anna-marias-welcome-home-quilt-kit/\">Anna Maria’s Welcome Home Quilt Kit</a></h3> <div class=\"product-rating-price\">\n",
       "<div class=\"wrapp-product-price\">\n",
       "<span class=\"price\"><span class=\"woocommerce-Price-amount amount\"><bdi><span class=\"woocommerce-Price-currencySymbol\">£</span>285.00</bdi></span></span>\n",
       "</div>\n",
       "</div>\n",
       "<div class=\"fade-in-block wd-scroll\">\n",
       "<div class=\"hover-content wd-more-desc\">\n",
       "<div class=\"hover-content-inner wd-more-desc-inner\">\n",
       "\t\t\t\t\tAnna Maria Horner’s Welcome Home Quilt Kits have finally arrived! It’s not too late to join in on the fun\t\t\t\t</div>\n",
       "<a aria-label=\"Read more description\" class=\"wd-more-desc-btn\" href=\"#\" rel=\"nofollow\"><span></span></a>\n",
       "</div>\n",
       "<div class=\"wd-bottom-actions\">\n",
       "<div class=\"wrap-wishlist-button\"></div>\n",
       "<div class=\"wd-add-btn wd-add-btn-replace\">\n",
       "<input class=\"wood-quick-quantity\" min=\"1\" name=\"quantity\" step=\"1\" style=\"max-width: 70px; margin-right: 5px;\" type=\"number\" value=\"1\"/><a aria-label=\"Add “Anna Maria's Welcome Home Quilt Kit” to your cart\" class=\"button product_type_simple add_to_cart_button ajax_add_to_cart add-to-cart-loop\" data-product_id=\"243086\" data-product_sku=\"FS-KI70-001\" data-quantity=\"1\" href=\"?add-to-cart=243086&amp;quantity=1\" rel=\"nofollow\"><span>Add to cart</span></a><span class=\"screen-reader-text\" id=\"woocommerce_loop_add_to_cart_link_describedby_243086\">\n",
       "</span>\n",
       "</div>\n",
       "<div class=\"wrap-quickview-button\"> <div class=\"quick-view wd-action-btn wd-style-icon wd-quick-view-icon\">\n",
       "<a class=\"open-quick-view quick-view-button\" data-id=\"243086\" href=\"https://www.sewhot.co.uk/product/anna-marias-welcome-home-quilt-kit/\" rel=\"nofollow\">Quick view</a>\n",
       "</div>\n",
       "</div>\n",
       "</div>\n",
       "</div>\n",
       "</div>"
      ]
     },
     "execution_count": 5,
     "metadata": {},
     "output_type": "execute_result"
    }
   ],
   "source": [
    "products[0]"
   ]
  },
  {
   "cell_type": "markdown",
   "id": "e47b62ef-a99f-4524-8590-df40bc27410c",
   "metadata": {},
   "source": [
    "## Gathering product name and link to the specific product page\n",
    "\n",
    "To achieve that task, I just started with the first element in the results (products). I tested if my code obtains the right information by applying it on the second finding as well. \n",
    "\n",
    "Product name and link can be extracted through the first anchor tag (\"a\"), the product name can be detected with the .get_text() function, the link is reached with .get(\"href\")."
   ]
  },
  {
   "cell_type": "code",
   "execution_count": 6,
   "id": "c6679e70-b93a-46b9-99b1-50a2a30836fe",
   "metadata": {},
   "outputs": [
    {
     "data": {
      "text/plain": [
       "'Anna Maria’s Welcome Home Quilt Kit'"
      ]
     },
     "execution_count": 6,
     "metadata": {},
     "output_type": "execute_result"
    }
   ],
   "source": [
    "products[0].find(\"a\").get_text()"
   ]
  },
  {
   "cell_type": "code",
   "execution_count": 7,
   "id": "654d78fd-e3da-4cf0-a565-19588e698c9e",
   "metadata": {},
   "outputs": [
    {
     "data": {
      "text/plain": [
       "'Made My Day Canna Toffee'"
      ]
     },
     "execution_count": 7,
     "metadata": {},
     "output_type": "execute_result"
    }
   ],
   "source": [
    "products[1].find(\"a\").get_text()"
   ]
  },
  {
   "cell_type": "code",
   "execution_count": 8,
   "id": "ce04e45c-b14d-496a-b9be-47d84dbe2b3d",
   "metadata": {},
   "outputs": [
    {
     "data": {
      "text/plain": [
       "'https://www.sewhot.co.uk/product/anna-marias-welcome-home-quilt-kit/'"
      ]
     },
     "execution_count": 8,
     "metadata": {},
     "output_type": "execute_result"
    }
   ],
   "source": [
    "products[0].find(\"a\").get(\"href\")"
   ]
  },
  {
   "cell_type": "code",
   "execution_count": 9,
   "id": "8d48cddd-6429-45db-b0a3-5d0a9d052a38",
   "metadata": {},
   "outputs": [
    {
     "data": {
      "text/plain": [
       "'https://www.sewhot.co.uk/product/made-my-day-canna-toffee/'"
      ]
     },
     "execution_count": 9,
     "metadata": {},
     "output_type": "execute_result"
    }
   ],
   "source": [
    "products[1].find(\"a\").get(\"href\")"
   ]
  },
  {
   "cell_type": "markdown",
   "id": "07ea7567-9b32-4276-b6dc-193ac2321215",
   "metadata": {},
   "source": [
    "## Searching for the price\n",
    "\n",
    "To be able to extract the price, I had to try a few things out. First, I used the span tag with class=price. One can see that the price and currency is in there. With indexing and the .get_text() function, I could fetch currency and price."
   ]
  },
  {
   "cell_type": "code",
   "execution_count": 10,
   "id": "ab00bbb5-845d-4cc1-9278-86185210109f",
   "metadata": {},
   "outputs": [
    {
     "data": {
      "text/plain": [
       "[<span class=\"price\"><span class=\"woocommerce-Price-amount amount\"><bdi><span class=\"woocommerce-Price-currencySymbol\">£</span>285.00</bdi></span></span>]"
      ]
     },
     "execution_count": 10,
     "metadata": {},
     "output_type": "execute_result"
    }
   ],
   "source": [
    "products[0].find_all(\"span\", {\"class\" : \"price\"})"
   ]
  },
  {
   "cell_type": "code",
   "execution_count": 11,
   "id": "b591f72a-08c6-465a-84e6-d357cd81c181",
   "metadata": {},
   "outputs": [
    {
     "data": {
      "text/plain": [
       "'£285.00'"
      ]
     },
     "execution_count": 11,
     "metadata": {},
     "output_type": "execute_result"
    }
   ],
   "source": [
    "products[0].find_all(\"span\", {\"class\" : \"price\"})[0].get_text()"
   ]
  },
  {
   "cell_type": "markdown",
   "id": "cab8c64f-5724-46ef-97ed-2881fcec5df6",
   "metadata": {},
   "source": [
    "Another possibility is to search for the bdi tag. The result is a bit narrower."
   ]
  },
  {
   "cell_type": "code",
   "execution_count": 12,
   "id": "7e9238f1-6580-463b-8c58-c028a4df8682",
   "metadata": {},
   "outputs": [
    {
     "data": {
      "text/plain": [
       "<bdi><span class=\"woocommerce-Price-currencySymbol\">£</span>285.00</bdi>"
      ]
     },
     "execution_count": 12,
     "metadata": {},
     "output_type": "execute_result"
    }
   ],
   "source": [
    "products[0].find(\"bdi\")"
   ]
  },
  {
   "cell_type": "code",
   "execution_count": 13,
   "id": "d5f3eb64-12c3-41ba-9805-0e079dd1290b",
   "metadata": {},
   "outputs": [
    {
     "data": {
      "text/plain": [
       "'£285.00'"
      ]
     },
     "execution_count": 13,
     "metadata": {},
     "output_type": "execute_result"
    }
   ],
   "source": [
    "products[0].find(\"bdi\").get_text()"
   ]
  },
  {
   "cell_type": "markdown",
   "id": "e5ee4442-a004-4549-ac68-04e856738305",
   "metadata": {},
   "source": [
    "One might want to separate currency symbol from number. Of course, everything is in pounds on this page. This can later be accounted for in a column name, if it is of interest. Also, one can transform the price from string type to float type."
   ]
  },
  {
   "cell_type": "code",
   "execution_count": 19,
   "id": "54a04b7d-a7c4-45be-a623-7ef15a61ab12",
   "metadata": {},
   "outputs": [
    {
     "data": {
      "text/plain": [
       "285.0"
      ]
     },
     "execution_count": 19,
     "metadata": {},
     "output_type": "execute_result"
    }
   ],
   "source": [
    "price = products[0].find_all(\"bdi\")[0].get_text()\n",
    "price = float(price.split(\"£\")[1])\n",
    "price"
   ]
  },
  {
   "cell_type": "markdown",
   "id": "7a5d912d-e0ba-4529-b617-918686ece7a0",
   "metadata": {},
   "source": [
    "## Creating a DataFrame\n",
    "\n",
    "Beside product name, product page and prize, I wanted to add another variable: product category. The information can be found in the product name, where I want to start. An alternative would be of course to check the product page for any information on that. But let's start with the result page entries and the information we can get there. \n",
    "\n",
    "I created a function find_product_category() where I assigned each product to a product category, depending on wether the respective keyword pointing to a certain category was included in the product name or not. I purposely did not split the product name afterwards, and left it as is. Just wanted to create a column which I can easily browse for the different product categories. I included my function into my loop, which will step by step create my DataFrame (see below)."
   ]
  },
  {
   "cell_type": "code",
   "execution_count": 15,
   "id": "d9b2af28-d121-4a9d-aa72-c66585bd83dc",
   "metadata": {},
   "outputs": [],
   "source": [
    "def find_product_category(product_name):\n",
    "    if \"Fat Quarter Bundle\" in product_name:\n",
    "        product_category = \"Fat Quarter Bundle\"\n",
    "    elif \"Kit\" in product_name:\n",
    "        product_category = \"Quilt Kit\"\n",
    "    elif \"Pattern\" in product_name:\n",
    "        product_category = \"Pattern\"\n",
    "    elif \"Thread\" in product_name:\n",
    "        product_category = \"Thread\"\n",
    "    elif \"Template\" in product_name:\n",
    "        product_category = \"Templates\"\n",
    "    else:\n",
    "        product_category = \"Bulk Goods\"\n",
    "\n",
    "    return product_category"
   ]
  },
  {
   "cell_type": "code",
   "execution_count": 16,
   "id": "58883950-473b-4e06-aff5-1c633d4d9f79",
   "metadata": {},
   "outputs": [
    {
     "data": {
      "text/html": [
       "<div>\n",
       "<style scoped>\n",
       "    .dataframe tbody tr th:only-of-type {\n",
       "        vertical-align: middle;\n",
       "    }\n",
       "\n",
       "    .dataframe tbody tr th {\n",
       "        vertical-align: top;\n",
       "    }\n",
       "\n",
       "    .dataframe thead th {\n",
       "        text-align: right;\n",
       "    }\n",
       "</style>\n",
       "<table border=\"1\" class=\"dataframe\">\n",
       "  <thead>\n",
       "    <tr style=\"text-align: right;\">\n",
       "      <th></th>\n",
       "      <th>Product Name</th>\n",
       "      <th>Product Category</th>\n",
       "      <th>Product Page</th>\n",
       "      <th>Price in GBP</th>\n",
       "    </tr>\n",
       "  </thead>\n",
       "  <tbody>\n",
       "    <tr>\n",
       "      <th>0</th>\n",
       "      <td>Anna Maria’s Welcome Home Quilt Kit</td>\n",
       "      <td>Quilt Kit</td>\n",
       "      <td>https://www.sewhot.co.uk/product/anna-marias-w...</td>\n",
       "      <td>285.00</td>\n",
       "    </tr>\n",
       "    <tr>\n",
       "      <th>1</th>\n",
       "      <td>Made My Day Canna Toffee</td>\n",
       "      <td>Bulk Goods</td>\n",
       "      <td>https://www.sewhot.co.uk/product/made-my-day-c...</td>\n",
       "      <td>15.50</td>\n",
       "    </tr>\n",
       "    <tr>\n",
       "      <th>2</th>\n",
       "      <td>Made My Day Canna Jade</td>\n",
       "      <td>Bulk Goods</td>\n",
       "      <td>https://www.sewhot.co.uk/product/made-my-day-c...</td>\n",
       "      <td>15.50</td>\n",
       "    </tr>\n",
       "    <tr>\n",
       "      <th>3</th>\n",
       "      <td>Pathways Quilt Pattern – downloadable</td>\n",
       "      <td>Pattern</td>\n",
       "      <td>https://www.sewhot.co.uk/product/pathways-quil...</td>\n",
       "      <td>10.00</td>\n",
       "    </tr>\n",
       "    <tr>\n",
       "      <th>4</th>\n",
       "      <td>Aurifil Thread Labs Subscription Box 2.0</td>\n",
       "      <td>Thread</td>\n",
       "      <td>https://www.sewhot.co.uk/product/aurifil-threa...</td>\n",
       "      <td>66.00</td>\n",
       "    </tr>\n",
       "    <tr>\n",
       "      <th>5</th>\n",
       "      <td>Tambourine Stitchery Brass</td>\n",
       "      <td>Bulk Goods</td>\n",
       "      <td>https://www.sewhot.co.uk/product/tambourine-st...</td>\n",
       "      <td>14.00</td>\n",
       "    </tr>\n",
       "    <tr>\n",
       "      <th>6</th>\n",
       "      <td>Our Fair Home Peony Heather 108″ Wideback</td>\n",
       "      <td>Bulk Goods</td>\n",
       "      <td>https://www.sewhot.co.uk/product/our-fair-home...</td>\n",
       "      <td>29.90</td>\n",
       "    </tr>\n",
       "    <tr>\n",
       "      <th>7</th>\n",
       "      <td>Visions Quilt Acrylic Template Set</td>\n",
       "      <td>Templates</td>\n",
       "      <td>https://www.sewhot.co.uk/product/visions-quilt...</td>\n",
       "      <td>64.00</td>\n",
       "    </tr>\n",
       "    <tr>\n",
       "      <th>8</th>\n",
       "      <td>Visions Quilt Pattern</td>\n",
       "      <td>Pattern</td>\n",
       "      <td>https://www.sewhot.co.uk/product/visions-quilt...</td>\n",
       "      <td>29.00</td>\n",
       "    </tr>\n",
       "    <tr>\n",
       "      <th>9</th>\n",
       "      <td>Our Fair Home Fat Quarter Bundle</td>\n",
       "      <td>Fat Quarter Bundle</td>\n",
       "      <td>https://www.sewhot.co.uk/product/our-fair-home...</td>\n",
       "      <td>69.95</td>\n",
       "    </tr>\n",
       "    <tr>\n",
       "      <th>10</th>\n",
       "      <td>Our Fair Home Aphrodite Small Sea</td>\n",
       "      <td>Bulk Goods</td>\n",
       "      <td>https://www.sewhot.co.uk/product/our-fair-home...</td>\n",
       "      <td>16.45</td>\n",
       "    </tr>\n",
       "    <tr>\n",
       "      <th>11</th>\n",
       "      <td>Our Fair Home Aphrodite Sugar</td>\n",
       "      <td>Bulk Goods</td>\n",
       "      <td>https://www.sewhot.co.uk/product/our-fair-home...</td>\n",
       "      <td>16.45</td>\n",
       "    </tr>\n",
       "    <tr>\n",
       "      <th>12</th>\n",
       "      <td>Our Fair Home Checkers Sunday</td>\n",
       "      <td>Bulk Goods</td>\n",
       "      <td>https://www.sewhot.co.uk/product/our-fair-home...</td>\n",
       "      <td>16.45</td>\n",
       "    </tr>\n",
       "    <tr>\n",
       "      <th>13</th>\n",
       "      <td>Our Fair Home Checkers Saturday</td>\n",
       "      <td>Bulk Goods</td>\n",
       "      <td>https://www.sewhot.co.uk/product/our-fair-home...</td>\n",
       "      <td>16.45</td>\n",
       "    </tr>\n",
       "    <tr>\n",
       "      <th>14</th>\n",
       "      <td>Our Fair Home Trellis Pond</td>\n",
       "      <td>Bulk Goods</td>\n",
       "      <td>https://www.sewhot.co.uk/product/our-fair-home...</td>\n",
       "      <td>16.45</td>\n",
       "    </tr>\n",
       "    <tr>\n",
       "      <th>15</th>\n",
       "      <td>Our Fair Home Trellis Peach</td>\n",
       "      <td>Bulk Goods</td>\n",
       "      <td>https://www.sewhot.co.uk/product/our-fair-home...</td>\n",
       "      <td>16.45</td>\n",
       "    </tr>\n",
       "    <tr>\n",
       "      <th>16</th>\n",
       "      <td>Our Fair Home Peacock Small Day</td>\n",
       "      <td>Bulk Goods</td>\n",
       "      <td>https://www.sewhot.co.uk/product/our-fair-home...</td>\n",
       "      <td>16.45</td>\n",
       "    </tr>\n",
       "    <tr>\n",
       "      <th>17</th>\n",
       "      <td>Our Fair Home Peacock Night</td>\n",
       "      <td>Bulk Goods</td>\n",
       "      <td>https://www.sewhot.co.uk/product/our-fair-home...</td>\n",
       "      <td>16.45</td>\n",
       "    </tr>\n",
       "    <tr>\n",
       "      <th>18</th>\n",
       "      <td>Our Fair Home Neighbourly Rust</td>\n",
       "      <td>Bulk Goods</td>\n",
       "      <td>https://www.sewhot.co.uk/product/our-fair-home...</td>\n",
       "      <td>16.45</td>\n",
       "    </tr>\n",
       "    <tr>\n",
       "      <th>19</th>\n",
       "      <td>Our Fair Home Neighbourly Periwinkle</td>\n",
       "      <td>Bulk Goods</td>\n",
       "      <td>https://www.sewhot.co.uk/product/our-fair-home...</td>\n",
       "      <td>16.45</td>\n",
       "    </tr>\n",
       "    <tr>\n",
       "      <th>20</th>\n",
       "      <td>Our Fair Home Neighbourly Honey</td>\n",
       "      <td>Bulk Goods</td>\n",
       "      <td>https://www.sewhot.co.uk/product/our-fair-home...</td>\n",
       "      <td>16.45</td>\n",
       "    </tr>\n",
       "    <tr>\n",
       "      <th>21</th>\n",
       "      <td>Our Fair Home Housewarming Shocker</td>\n",
       "      <td>Bulk Goods</td>\n",
       "      <td>https://www.sewhot.co.uk/product/our-fair-home...</td>\n",
       "      <td>16.45</td>\n",
       "    </tr>\n",
       "    <tr>\n",
       "      <th>22</th>\n",
       "      <td>Our Fair Home Housewarming Jade</td>\n",
       "      <td>Bulk Goods</td>\n",
       "      <td>https://www.sewhot.co.uk/product/our-fair-home...</td>\n",
       "      <td>16.45</td>\n",
       "    </tr>\n",
       "    <tr>\n",
       "      <th>23</th>\n",
       "      <td>Our Fair Home Compromise Small Cream</td>\n",
       "      <td>Bulk Goods</td>\n",
       "      <td>https://www.sewhot.co.uk/product/our-fair-home...</td>\n",
       "      <td>16.45</td>\n",
       "    </tr>\n",
       "    <tr>\n",
       "      <th>24</th>\n",
       "      <td>Our Fair Home Compromise Aqua</td>\n",
       "      <td>Bulk Goods</td>\n",
       "      <td>https://www.sewhot.co.uk/product/our-fair-home...</td>\n",
       "      <td>16.45</td>\n",
       "    </tr>\n",
       "    <tr>\n",
       "      <th>25</th>\n",
       "      <td>Our Fair Home Walkway Juniper</td>\n",
       "      <td>Bulk Goods</td>\n",
       "      <td>https://www.sewhot.co.uk/product/our-fair-home...</td>\n",
       "      <td>16.45</td>\n",
       "    </tr>\n",
       "    <tr>\n",
       "      <th>26</th>\n",
       "      <td>Our Fair Home Walkway Caramel</td>\n",
       "      <td>Bulk Goods</td>\n",
       "      <td>https://www.sewhot.co.uk/product/our-fair-home...</td>\n",
       "      <td>16.45</td>\n",
       "    </tr>\n",
       "    <tr>\n",
       "      <th>27</th>\n",
       "      <td>Love Always, AM In Town Licorice</td>\n",
       "      <td>Bulk Goods</td>\n",
       "      <td>https://www.sewhot.co.uk/product/love-always-a...</td>\n",
       "      <td>16.20</td>\n",
       "    </tr>\n",
       "    <tr>\n",
       "      <th>28</th>\n",
       "      <td>Love Always, AM Cathedral Pink</td>\n",
       "      <td>Bulk Goods</td>\n",
       "      <td>https://www.sewhot.co.uk/product/love-always-a...</td>\n",
       "      <td>16.20</td>\n",
       "    </tr>\n",
       "    <tr>\n",
       "      <th>29</th>\n",
       "      <td>Love Always, AM Cathedral Blue</td>\n",
       "      <td>Bulk Goods</td>\n",
       "      <td>https://www.sewhot.co.uk/product/love-always-a...</td>\n",
       "      <td>16.20</td>\n",
       "    </tr>\n",
       "  </tbody>\n",
       "</table>\n",
       "</div>"
      ],
      "text/plain": [
       "                                 Product Name    Product Category  \\\n",
       "0         Anna Maria’s Welcome Home Quilt Kit           Quilt Kit   \n",
       "1                    Made My Day Canna Toffee          Bulk Goods   \n",
       "2                      Made My Day Canna Jade          Bulk Goods   \n",
       "3       Pathways Quilt Pattern – downloadable             Pattern   \n",
       "4    Aurifil Thread Labs Subscription Box 2.0              Thread   \n",
       "5                  Tambourine Stitchery Brass          Bulk Goods   \n",
       "6   Our Fair Home Peony Heather 108″ Wideback          Bulk Goods   \n",
       "7          Visions Quilt Acrylic Template Set           Templates   \n",
       "8                       Visions Quilt Pattern             Pattern   \n",
       "9            Our Fair Home Fat Quarter Bundle  Fat Quarter Bundle   \n",
       "10          Our Fair Home Aphrodite Small Sea          Bulk Goods   \n",
       "11              Our Fair Home Aphrodite Sugar          Bulk Goods   \n",
       "12              Our Fair Home Checkers Sunday          Bulk Goods   \n",
       "13            Our Fair Home Checkers Saturday          Bulk Goods   \n",
       "14                 Our Fair Home Trellis Pond          Bulk Goods   \n",
       "15                Our Fair Home Trellis Peach          Bulk Goods   \n",
       "16            Our Fair Home Peacock Small Day          Bulk Goods   \n",
       "17                Our Fair Home Peacock Night          Bulk Goods   \n",
       "18             Our Fair Home Neighbourly Rust          Bulk Goods   \n",
       "19       Our Fair Home Neighbourly Periwinkle          Bulk Goods   \n",
       "20            Our Fair Home Neighbourly Honey          Bulk Goods   \n",
       "21         Our Fair Home Housewarming Shocker          Bulk Goods   \n",
       "22            Our Fair Home Housewarming Jade          Bulk Goods   \n",
       "23       Our Fair Home Compromise Small Cream          Bulk Goods   \n",
       "24              Our Fair Home Compromise Aqua          Bulk Goods   \n",
       "25              Our Fair Home Walkway Juniper          Bulk Goods   \n",
       "26              Our Fair Home Walkway Caramel          Bulk Goods   \n",
       "27           Love Always, AM In Town Licorice          Bulk Goods   \n",
       "28             Love Always, AM Cathedral Pink          Bulk Goods   \n",
       "29             Love Always, AM Cathedral Blue          Bulk Goods   \n",
       "\n",
       "                                         Product Page  Price in GBP  \n",
       "0   https://www.sewhot.co.uk/product/anna-marias-w...        285.00  \n",
       "1   https://www.sewhot.co.uk/product/made-my-day-c...         15.50  \n",
       "2   https://www.sewhot.co.uk/product/made-my-day-c...         15.50  \n",
       "3   https://www.sewhot.co.uk/product/pathways-quil...         10.00  \n",
       "4   https://www.sewhot.co.uk/product/aurifil-threa...         66.00  \n",
       "5   https://www.sewhot.co.uk/product/tambourine-st...         14.00  \n",
       "6   https://www.sewhot.co.uk/product/our-fair-home...         29.90  \n",
       "7   https://www.sewhot.co.uk/product/visions-quilt...         64.00  \n",
       "8   https://www.sewhot.co.uk/product/visions-quilt...         29.00  \n",
       "9   https://www.sewhot.co.uk/product/our-fair-home...         69.95  \n",
       "10  https://www.sewhot.co.uk/product/our-fair-home...         16.45  \n",
       "11  https://www.sewhot.co.uk/product/our-fair-home...         16.45  \n",
       "12  https://www.sewhot.co.uk/product/our-fair-home...         16.45  \n",
       "13  https://www.sewhot.co.uk/product/our-fair-home...         16.45  \n",
       "14  https://www.sewhot.co.uk/product/our-fair-home...         16.45  \n",
       "15  https://www.sewhot.co.uk/product/our-fair-home...         16.45  \n",
       "16  https://www.sewhot.co.uk/product/our-fair-home...         16.45  \n",
       "17  https://www.sewhot.co.uk/product/our-fair-home...         16.45  \n",
       "18  https://www.sewhot.co.uk/product/our-fair-home...         16.45  \n",
       "19  https://www.sewhot.co.uk/product/our-fair-home...         16.45  \n",
       "20  https://www.sewhot.co.uk/product/our-fair-home...         16.45  \n",
       "21  https://www.sewhot.co.uk/product/our-fair-home...         16.45  \n",
       "22  https://www.sewhot.co.uk/product/our-fair-home...         16.45  \n",
       "23  https://www.sewhot.co.uk/product/our-fair-home...         16.45  \n",
       "24  https://www.sewhot.co.uk/product/our-fair-home...         16.45  \n",
       "25  https://www.sewhot.co.uk/product/our-fair-home...         16.45  \n",
       "26  https://www.sewhot.co.uk/product/our-fair-home...         16.45  \n",
       "27  https://www.sewhot.co.uk/product/love-always-a...         16.20  \n",
       "28  https://www.sewhot.co.uk/product/love-always-a...         16.20  \n",
       "29  https://www.sewhot.co.uk/product/love-always-a...         16.20  "
      ]
     },
     "execution_count": 16,
     "metadata": {},
     "output_type": "execute_result"
    }
   ],
   "source": [
    "product_list = []\n",
    "\n",
    "for product in products:\n",
    "\n",
    "    try:\n",
    "        product_name = product.find(\"a\").get_text()\n",
    "    except AttributeError:\n",
    "        product_name = None\n",
    "\n",
    "    product_category = find_product_category(product_name)\n",
    "    \n",
    "    try:\n",
    "        product_page = product.find(\"a\").get(\"href\")\n",
    "    except AttributeError:\n",
    "        product_page = None\n",
    "\n",
    "    try:\n",
    "        price_in_gbp = product.find(\"bdi\").get_text()\n",
    "        price_in_gbp = float(price_in_gbp.split(\"£\")[1])\n",
    "    except AttributeError:\n",
    "        price_in_gbp = None\n",
    "\n",
    "\n",
    "    product_list.append({\n",
    "                \"Product Name\": product_name,\n",
    "                \"Product Category\" : product_category,\n",
    "                \"Product Page\": product_page,\n",
    "                \"Price in GBP\": price_in_gbp\n",
    "            })\n",
    "    \n",
    "df = pd.DataFrame(product_list)\n",
    "df"
   ]
  },
  {
   "cell_type": "markdown",
   "id": "abd68908-8615-4caf-b3c9-ca78e222ba47",
   "metadata": {},
   "source": [
    "## Write DataFrame to csv file\n",
    "\n",
    "I am storing the DataFrame as a csv file, as I would like to use it later on in an other project."
   ]
  },
  {
   "cell_type": "code",
   "execution_count": 17,
   "id": "23b2a6e1-96de-42df-a6ce-22280274c0c2",
   "metadata": {},
   "outputs": [],
   "source": [
    "df.to_csv('amh_firstpage.csv', index=False) "
   ]
  },
  {
   "cell_type": "markdown",
   "id": "742f6b26-5f50-4e9c-9209-389e404b4737",
   "metadata": {},
   "source": [
    "## Outlook\n",
    "\n",
    "Two things can be done on top. One is to iterate through each page of my search (give by the Sew Hot UK website) and thereby storing all the available products plus their info. One can access the actual product page and extract even more details/ info on each product."
   ]
  },
  {
   "cell_type": "code",
   "execution_count": null,
   "id": "399bc900-f755-48b3-8008-75b141ede557",
   "metadata": {},
   "outputs": [],
   "source": []
  }
 ],
 "metadata": {
  "kernelspec": {
   "display_name": "Python 3 (ipykernel)",
   "language": "python",
   "name": "python3"
  },
  "language_info": {
   "codemirror_mode": {
    "name": "ipython",
    "version": 3
   },
   "file_extension": ".py",
   "mimetype": "text/x-python",
   "name": "python",
   "nbconvert_exporter": "python",
   "pygments_lexer": "ipython3",
   "version": "3.10.12"
  }
 },
 "nbformat": 4,
 "nbformat_minor": 5
}
